{
  "cells": [
    {
      "cell_type": "markdown",
      "metadata": {
        "id": "view-in-github",
        "colab_type": "text"
      },
      "source": [
        "<a href=\"https://colab.research.google.com/github/aasim-syed/10-projects-10-hours/blob/master/ChiSquare.ipynb\" target=\"_parent\"><img src=\"https://colab.research.google.com/assets/colab-badge.svg\" alt=\"Open In Colab\"/></a>"
      ]
    },
    {
      "cell_type": "code",
      "execution_count": null,
      "metadata": {
        "id": "TYbhXXPCh7KK"
      },
      "outputs": [],
      "source": [
        "import pandas as pd"
      ]
    },
    {
      "cell_type": "code",
      "execution_count": null,
      "metadata": {
        "id": "boSWkh0ph7KK"
      },
      "outputs": [],
      "source": [
        "df=pd.read_csv(r'C:\\Downloads\\mtcars.csv')"
      ]
    },
    {
      "cell_type": "code",
      "execution_count": null,
      "metadata": {
        "id": "a0VgiMPrh7KL",
        "outputId": "7d8d33cf-9199-41ee-d69c-7a2d5ed73deb"
      },
      "outputs": [
        {
          "name": "stdout",
          "output_type": "stream",
          "text": [
            "                  model   mpg  cyl   disp   hp  drat     wt   qsec  vs  am  \\\n",
            "0             Mazda RX4  21.0    6  160.0  110  3.90  2.620  16.46   0   1   \n",
            "1         Mazda RX4 Wag  21.0    6  160.0  110  3.90  2.875  17.02   0   1   \n",
            "2            Datsun 710  22.8    4  108.0   93  3.85  2.320  18.61   1   1   \n",
            "3        Hornet 4 Drive  21.4    6  258.0  110  3.08  3.215  19.44   1   0   \n",
            "4     Hornet Sportabout  18.7    8  360.0  175  3.15  3.440  17.02   0   0   \n",
            "5               Valiant  18.1    6  225.0  105  2.76  3.460  20.22   1   0   \n",
            "6            Duster 360  14.3    8  360.0  245  3.21  3.570  15.84   0   0   \n",
            "7             Merc 240D  24.4    4  146.7   62  3.69  3.190  20.00   1   0   \n",
            "8              Merc 230  22.8    4  140.8   95  3.92  3.150  22.90   1   0   \n",
            "9              Merc 280  19.2    6  167.6  123  3.92  3.440  18.30   1   0   \n",
            "10            Merc 280C  17.8    6  167.6  123  3.92  3.440  18.90   1   0   \n",
            "11           Merc 450SE  16.4    8  275.8  180  3.07  4.070  17.40   0   0   \n",
            "12           Merc 450SL  17.3    8  275.8  180  3.07  3.730  17.60   0   0   \n",
            "13          Merc 450SLC  15.2    8  275.8  180  3.07  3.780  18.00   0   0   \n",
            "14   Cadillac Fleetwood  10.4    8  472.0  205  2.93  5.250  17.98   0   0   \n",
            "15  Lincoln Continental  10.4    8  460.0  215  3.00  5.424  17.82   0   0   \n",
            "16    Chrysler Imperial  14.7    8  440.0  230  3.23  5.345  17.42   0   0   \n",
            "17             Fiat 128  32.4    4   78.7   66  4.08  2.200  19.47   1   1   \n",
            "18          Honda Civic  30.4    4   75.7   52  4.93  1.615  18.52   1   1   \n",
            "19       Toyota Corolla  33.9    4   71.1   65  4.22  1.835  19.90   1   1   \n",
            "20        Toyota Corona  21.5    4  120.1   97  3.70  2.465  20.01   1   0   \n",
            "21     Dodge Challenger  15.5    8  318.0  150  2.76  3.520  16.87   0   0   \n",
            "22          AMC Javelin  15.2    8  304.0  150  3.15  3.435  17.30   0   0   \n",
            "23           Camaro Z28  13.3    8  350.0  245  3.73  3.840  15.41   0   0   \n",
            "24     Pontiac Firebird  19.2    8  400.0  175  3.08  3.845  17.05   0   0   \n",
            "25            Fiat X1-9  27.3    4   79.0   66  4.08  1.935  18.90   1   1   \n",
            "26        Porsche 914-2  26.0    4  120.3   91  4.43  2.140  16.70   0   1   \n",
            "27         Lotus Europa  30.4    4   95.1  113  3.77  1.513  16.90   1   1   \n",
            "28       Ford Pantera L  15.8    8  351.0  264  4.22  3.170  14.50   0   1   \n",
            "29         Ferrari Dino  19.7    6  145.0  175  3.62  2.770  15.50   0   1   \n",
            "30        Maserati Bora  15.0    8  301.0  335  3.54  3.570  14.60   0   1   \n",
            "31           Volvo 142E  21.4    4  121.0  109  4.11  2.780  18.60   1   1   \n",
            "\n",
            "    gear  carb  \n",
            "0      4     4  \n",
            "1      4     4  \n",
            "2      4     1  \n",
            "3      3     1  \n",
            "4      3     2  \n",
            "5      3     1  \n",
            "6      3     4  \n",
            "7      4     2  \n",
            "8      4     2  \n",
            "9      4     4  \n",
            "10     4     4  \n",
            "11     3     3  \n",
            "12     3     3  \n",
            "13     3     3  \n",
            "14     3     4  \n",
            "15     3     4  \n",
            "16     3     4  \n",
            "17     4     1  \n",
            "18     4     2  \n",
            "19     4     1  \n",
            "20     3     1  \n",
            "21     3     2  \n",
            "22     3     2  \n",
            "23     3     4  \n",
            "24     3     2  \n",
            "25     4     1  \n",
            "26     5     2  \n",
            "27     5     2  \n",
            "28     5     4  \n",
            "29     5     6  \n",
            "30     5     8  \n",
            "31     4     2  \n"
          ]
        }
      ],
      "source": [
        "print(df)"
      ]
    },
    {
      "cell_type": "code",
      "execution_count": null,
      "metadata": {
        "id": "s5vMfZIwh7KL"
      },
      "outputs": [],
      "source": [
        "df1=df[['cyl','carb']]"
      ]
    },
    {
      "cell_type": "code",
      "execution_count": null,
      "metadata": {
        "id": "zQsSTERPh7KM",
        "outputId": "f53b12dc-3560-4245-b48e-e509b7f21d38"
      },
      "outputs": [
        {
          "data": {
            "text/html": [
              "<div>\n",
              "<style scoped>\n",
              "    .dataframe tbody tr th:only-of-type {\n",
              "        vertical-align: middle;\n",
              "    }\n",
              "\n",
              "    .dataframe tbody tr th {\n",
              "        vertical-align: top;\n",
              "    }\n",
              "\n",
              "    .dataframe thead th {\n",
              "        text-align: right;\n",
              "    }\n",
              "</style>\n",
              "<table border=\"1\" class=\"dataframe\">\n",
              "  <thead>\n",
              "    <tr style=\"text-align: right;\">\n",
              "      <th></th>\n",
              "      <th>cyl</th>\n",
              "      <th>carb</th>\n",
              "    </tr>\n",
              "  </thead>\n",
              "  <tbody>\n",
              "    <tr>\n",
              "      <th>0</th>\n",
              "      <td>6</td>\n",
              "      <td>4</td>\n",
              "    </tr>\n",
              "    <tr>\n",
              "      <th>1</th>\n",
              "      <td>6</td>\n",
              "      <td>4</td>\n",
              "    </tr>\n",
              "    <tr>\n",
              "      <th>2</th>\n",
              "      <td>4</td>\n",
              "      <td>1</td>\n",
              "    </tr>\n",
              "    <tr>\n",
              "      <th>3</th>\n",
              "      <td>6</td>\n",
              "      <td>1</td>\n",
              "    </tr>\n",
              "    <tr>\n",
              "      <th>4</th>\n",
              "      <td>8</td>\n",
              "      <td>2</td>\n",
              "    </tr>\n",
              "    <tr>\n",
              "      <th>5</th>\n",
              "      <td>6</td>\n",
              "      <td>1</td>\n",
              "    </tr>\n",
              "    <tr>\n",
              "      <th>6</th>\n",
              "      <td>8</td>\n",
              "      <td>4</td>\n",
              "    </tr>\n",
              "    <tr>\n",
              "      <th>7</th>\n",
              "      <td>4</td>\n",
              "      <td>2</td>\n",
              "    </tr>\n",
              "    <tr>\n",
              "      <th>8</th>\n",
              "      <td>4</td>\n",
              "      <td>2</td>\n",
              "    </tr>\n",
              "    <tr>\n",
              "      <th>9</th>\n",
              "      <td>6</td>\n",
              "      <td>4</td>\n",
              "    </tr>\n",
              "    <tr>\n",
              "      <th>10</th>\n",
              "      <td>6</td>\n",
              "      <td>4</td>\n",
              "    </tr>\n",
              "    <tr>\n",
              "      <th>11</th>\n",
              "      <td>8</td>\n",
              "      <td>3</td>\n",
              "    </tr>\n",
              "    <tr>\n",
              "      <th>12</th>\n",
              "      <td>8</td>\n",
              "      <td>3</td>\n",
              "    </tr>\n",
              "    <tr>\n",
              "      <th>13</th>\n",
              "      <td>8</td>\n",
              "      <td>3</td>\n",
              "    </tr>\n",
              "    <tr>\n",
              "      <th>14</th>\n",
              "      <td>8</td>\n",
              "      <td>4</td>\n",
              "    </tr>\n",
              "    <tr>\n",
              "      <th>15</th>\n",
              "      <td>8</td>\n",
              "      <td>4</td>\n",
              "    </tr>\n",
              "    <tr>\n",
              "      <th>16</th>\n",
              "      <td>8</td>\n",
              "      <td>4</td>\n",
              "    </tr>\n",
              "    <tr>\n",
              "      <th>17</th>\n",
              "      <td>4</td>\n",
              "      <td>1</td>\n",
              "    </tr>\n",
              "    <tr>\n",
              "      <th>18</th>\n",
              "      <td>4</td>\n",
              "      <td>2</td>\n",
              "    </tr>\n",
              "    <tr>\n",
              "      <th>19</th>\n",
              "      <td>4</td>\n",
              "      <td>1</td>\n",
              "    </tr>\n",
              "    <tr>\n",
              "      <th>20</th>\n",
              "      <td>4</td>\n",
              "      <td>1</td>\n",
              "    </tr>\n",
              "    <tr>\n",
              "      <th>21</th>\n",
              "      <td>8</td>\n",
              "      <td>2</td>\n",
              "    </tr>\n",
              "    <tr>\n",
              "      <th>22</th>\n",
              "      <td>8</td>\n",
              "      <td>2</td>\n",
              "    </tr>\n",
              "    <tr>\n",
              "      <th>23</th>\n",
              "      <td>8</td>\n",
              "      <td>4</td>\n",
              "    </tr>\n",
              "    <tr>\n",
              "      <th>24</th>\n",
              "      <td>8</td>\n",
              "      <td>2</td>\n",
              "    </tr>\n",
              "    <tr>\n",
              "      <th>25</th>\n",
              "      <td>4</td>\n",
              "      <td>1</td>\n",
              "    </tr>\n",
              "    <tr>\n",
              "      <th>26</th>\n",
              "      <td>4</td>\n",
              "      <td>2</td>\n",
              "    </tr>\n",
              "    <tr>\n",
              "      <th>27</th>\n",
              "      <td>4</td>\n",
              "      <td>2</td>\n",
              "    </tr>\n",
              "    <tr>\n",
              "      <th>28</th>\n",
              "      <td>8</td>\n",
              "      <td>4</td>\n",
              "    </tr>\n",
              "    <tr>\n",
              "      <th>29</th>\n",
              "      <td>6</td>\n",
              "      <td>6</td>\n",
              "    </tr>\n",
              "    <tr>\n",
              "      <th>30</th>\n",
              "      <td>8</td>\n",
              "      <td>8</td>\n",
              "    </tr>\n",
              "    <tr>\n",
              "      <th>31</th>\n",
              "      <td>4</td>\n",
              "      <td>2</td>\n",
              "    </tr>\n",
              "  </tbody>\n",
              "</table>\n",
              "</div>"
            ],
            "text/plain": [
              "    cyl  carb\n",
              "0     6     4\n",
              "1     6     4\n",
              "2     4     1\n",
              "3     6     1\n",
              "4     8     2\n",
              "5     6     1\n",
              "6     8     4\n",
              "7     4     2\n",
              "8     4     2\n",
              "9     6     4\n",
              "10    6     4\n",
              "11    8     3\n",
              "12    8     3\n",
              "13    8     3\n",
              "14    8     4\n",
              "15    8     4\n",
              "16    8     4\n",
              "17    4     1\n",
              "18    4     2\n",
              "19    4     1\n",
              "20    4     1\n",
              "21    8     2\n",
              "22    8     2\n",
              "23    8     4\n",
              "24    8     2\n",
              "25    4     1\n",
              "26    4     2\n",
              "27    4     2\n",
              "28    8     4\n",
              "29    6     6\n",
              "30    8     8\n",
              "31    4     2"
            ]
          },
          "execution_count": 21,
          "metadata": {},
          "output_type": "execute_result"
        }
      ],
      "source": [
        "df1"
      ]
    },
    {
      "cell_type": "code",
      "execution_count": null,
      "metadata": {
        "id": "HEmKqsVUh7KN"
      },
      "outputs": [],
      "source": [
        "df1=df1.head(3)"
      ]
    },
    {
      "cell_type": "code",
      "execution_count": null,
      "metadata": {
        "id": "fgcQVuiJh7KN",
        "outputId": "3a42f0e1-8e4b-48ae-e58f-4fbc4ac2d701"
      },
      "outputs": [
        {
          "data": {
            "text/html": [
              "<div>\n",
              "<style scoped>\n",
              "    .dataframe tbody tr th:only-of-type {\n",
              "        vertical-align: middle;\n",
              "    }\n",
              "\n",
              "    .dataframe tbody tr th {\n",
              "        vertical-align: top;\n",
              "    }\n",
              "\n",
              "    .dataframe thead th {\n",
              "        text-align: right;\n",
              "    }\n",
              "</style>\n",
              "<table border=\"1\" class=\"dataframe\">\n",
              "  <thead>\n",
              "    <tr style=\"text-align: right;\">\n",
              "      <th></th>\n",
              "      <th>cyl</th>\n",
              "      <th>carb</th>\n",
              "    </tr>\n",
              "  </thead>\n",
              "  <tbody>\n",
              "    <tr>\n",
              "      <th>0</th>\n",
              "      <td>6</td>\n",
              "      <td>4</td>\n",
              "    </tr>\n",
              "    <tr>\n",
              "      <th>1</th>\n",
              "      <td>6</td>\n",
              "      <td>4</td>\n",
              "    </tr>\n",
              "    <tr>\n",
              "      <th>2</th>\n",
              "      <td>4</td>\n",
              "      <td>1</td>\n",
              "    </tr>\n",
              "  </tbody>\n",
              "</table>\n",
              "</div>"
            ],
            "text/plain": [
              "   cyl  carb\n",
              "0    6     4\n",
              "1    6     4\n",
              "2    4     1"
            ]
          },
          "execution_count": 23,
          "metadata": {},
          "output_type": "execute_result"
        }
      ],
      "source": [
        "df1"
      ]
    },
    {
      "cell_type": "code",
      "execution_count": null,
      "metadata": {
        "id": "JtFRXjqDh7KO",
        "outputId": "5316c183-4b32-4d72-affb-bfe7bfd53991"
      },
      "outputs": [
        {
          "data": {
            "text/plain": [
              "(0.6944444444444444,\n",
              " 0.7066482778577161,\n",
              " 2,\n",
              " array([[6.4, 3.6],\n",
              "        [6.4, 3.6],\n",
              "        [3.2, 1.8]]))"
            ]
          },
          "execution_count": 24,
          "metadata": {},
          "output_type": "execute_result"
        }
      ],
      "source": [
        "chi2_contingency(df1)"
      ]
    },
    {
      "cell_type": "code",
      "execution_count": null,
      "metadata": {
        "id": "mkBPPrMPh7KO"
      },
      "outputs": [],
      "source": [
        "survey=pd.read_csv(r'C:\\Datasets\\survey.csv')"
      ]
    },
    {
      "cell_type": "code",
      "execution_count": null,
      "metadata": {
        "scrolled": false,
        "id": "rWskAMQdh7KP",
        "outputId": "ce251ab3-fb73-4865-ee34-27a6009d4914"
      },
      "outputs": [
        {
          "data": {
            "text/html": [
              "<div>\n",
              "<style scoped>\n",
              "    .dataframe tbody tr th:only-of-type {\n",
              "        vertical-align: middle;\n",
              "    }\n",
              "\n",
              "    .dataframe tbody tr th {\n",
              "        vertical-align: top;\n",
              "    }\n",
              "\n",
              "    .dataframe thead th {\n",
              "        text-align: right;\n",
              "    }\n",
              "</style>\n",
              "<table border=\"1\" class=\"dataframe\">\n",
              "  <thead>\n",
              "    <tr style=\"text-align: right;\">\n",
              "      <th></th>\n",
              "      <th>Sex</th>\n",
              "      <th>Wr.Hnd</th>\n",
              "      <th>NW.Hnd</th>\n",
              "      <th>W.Hnd</th>\n",
              "      <th>Fold</th>\n",
              "      <th>Pulse</th>\n",
              "      <th>Clap</th>\n",
              "      <th>Exer</th>\n",
              "      <th>Smoke</th>\n",
              "      <th>Height</th>\n",
              "      <th>M.I</th>\n",
              "      <th>Age</th>\n",
              "    </tr>\n",
              "  </thead>\n",
              "  <tbody>\n",
              "    <tr>\n",
              "      <th>0</th>\n",
              "      <td>Female</td>\n",
              "      <td>18.5</td>\n",
              "      <td>18.0</td>\n",
              "      <td>Right</td>\n",
              "      <td>R on L</td>\n",
              "      <td>92.0</td>\n",
              "      <td>Left</td>\n",
              "      <td>Some</td>\n",
              "      <td>Never</td>\n",
              "      <td>173.0</td>\n",
              "      <td>Metric</td>\n",
              "      <td>18.250</td>\n",
              "    </tr>\n",
              "    <tr>\n",
              "      <th>1</th>\n",
              "      <td>Male</td>\n",
              "      <td>19.5</td>\n",
              "      <td>20.5</td>\n",
              "      <td>Left</td>\n",
              "      <td>R on L</td>\n",
              "      <td>104.0</td>\n",
              "      <td>Left</td>\n",
              "      <td>None</td>\n",
              "      <td>Regul</td>\n",
              "      <td>177.8</td>\n",
              "      <td>Imperial</td>\n",
              "      <td>17.583</td>\n",
              "    </tr>\n",
              "    <tr>\n",
              "      <th>2</th>\n",
              "      <td>Male</td>\n",
              "      <td>18.0</td>\n",
              "      <td>13.3</td>\n",
              "      <td>Right</td>\n",
              "      <td>L on R</td>\n",
              "      <td>87.0</td>\n",
              "      <td>Neither</td>\n",
              "      <td>None</td>\n",
              "      <td>Occas</td>\n",
              "      <td>NaN</td>\n",
              "      <td>NaN</td>\n",
              "      <td>16.917</td>\n",
              "    </tr>\n",
              "    <tr>\n",
              "      <th>3</th>\n",
              "      <td>Male</td>\n",
              "      <td>18.8</td>\n",
              "      <td>18.9</td>\n",
              "      <td>Right</td>\n",
              "      <td>R on L</td>\n",
              "      <td>NaN</td>\n",
              "      <td>Neither</td>\n",
              "      <td>None</td>\n",
              "      <td>Never</td>\n",
              "      <td>160.0</td>\n",
              "      <td>Metric</td>\n",
              "      <td>20.333</td>\n",
              "    </tr>\n",
              "    <tr>\n",
              "      <th>4</th>\n",
              "      <td>Male</td>\n",
              "      <td>20.0</td>\n",
              "      <td>20.0</td>\n",
              "      <td>Right</td>\n",
              "      <td>Neither</td>\n",
              "      <td>35.0</td>\n",
              "      <td>Right</td>\n",
              "      <td>Some</td>\n",
              "      <td>Never</td>\n",
              "      <td>165.0</td>\n",
              "      <td>Metric</td>\n",
              "      <td>23.667</td>\n",
              "    </tr>\n",
              "    <tr>\n",
              "      <th>...</th>\n",
              "      <td>...</td>\n",
              "      <td>...</td>\n",
              "      <td>...</td>\n",
              "      <td>...</td>\n",
              "      <td>...</td>\n",
              "      <td>...</td>\n",
              "      <td>...</td>\n",
              "      <td>...</td>\n",
              "      <td>...</td>\n",
              "      <td>...</td>\n",
              "      <td>...</td>\n",
              "      <td>...</td>\n",
              "    </tr>\n",
              "    <tr>\n",
              "      <th>232</th>\n",
              "      <td>Female</td>\n",
              "      <td>18.0</td>\n",
              "      <td>18.0</td>\n",
              "      <td>Right</td>\n",
              "      <td>L on R</td>\n",
              "      <td>85.0</td>\n",
              "      <td>Right</td>\n",
              "      <td>Some</td>\n",
              "      <td>Never</td>\n",
              "      <td>165.1</td>\n",
              "      <td>Imperial</td>\n",
              "      <td>17.667</td>\n",
              "    </tr>\n",
              "    <tr>\n",
              "      <th>233</th>\n",
              "      <td>Female</td>\n",
              "      <td>18.5</td>\n",
              "      <td>18.0</td>\n",
              "      <td>Right</td>\n",
              "      <td>L on R</td>\n",
              "      <td>88.0</td>\n",
              "      <td>Right</td>\n",
              "      <td>Some</td>\n",
              "      <td>Never</td>\n",
              "      <td>160.0</td>\n",
              "      <td>Metric</td>\n",
              "      <td>16.917</td>\n",
              "    </tr>\n",
              "    <tr>\n",
              "      <th>234</th>\n",
              "      <td>Female</td>\n",
              "      <td>17.5</td>\n",
              "      <td>16.5</td>\n",
              "      <td>Right</td>\n",
              "      <td>R on L</td>\n",
              "      <td>NaN</td>\n",
              "      <td>Right</td>\n",
              "      <td>Some</td>\n",
              "      <td>Never</td>\n",
              "      <td>170.0</td>\n",
              "      <td>Metric</td>\n",
              "      <td>18.583</td>\n",
              "    </tr>\n",
              "    <tr>\n",
              "      <th>235</th>\n",
              "      <td>Male</td>\n",
              "      <td>21.0</td>\n",
              "      <td>21.5</td>\n",
              "      <td>Right</td>\n",
              "      <td>R on L</td>\n",
              "      <td>90.0</td>\n",
              "      <td>Right</td>\n",
              "      <td>Some</td>\n",
              "      <td>Never</td>\n",
              "      <td>183.0</td>\n",
              "      <td>Metric</td>\n",
              "      <td>17.167</td>\n",
              "    </tr>\n",
              "    <tr>\n",
              "      <th>236</th>\n",
              "      <td>Female</td>\n",
              "      <td>17.6</td>\n",
              "      <td>17.3</td>\n",
              "      <td>Right</td>\n",
              "      <td>R on L</td>\n",
              "      <td>85.0</td>\n",
              "      <td>Right</td>\n",
              "      <td>Freq</td>\n",
              "      <td>Never</td>\n",
              "      <td>168.5</td>\n",
              "      <td>Metric</td>\n",
              "      <td>17.750</td>\n",
              "    </tr>\n",
              "  </tbody>\n",
              "</table>\n",
              "<p>237 rows × 12 columns</p>\n",
              "</div>"
            ],
            "text/plain": [
              "        Sex  Wr.Hnd  NW.Hnd  W.Hnd     Fold  Pulse     Clap  Exer  Smoke  \\\n",
              "0    Female    18.5    18.0  Right   R on L   92.0     Left  Some  Never   \n",
              "1      Male    19.5    20.5   Left   R on L  104.0     Left  None  Regul   \n",
              "2      Male    18.0    13.3  Right   L on R   87.0  Neither  None  Occas   \n",
              "3      Male    18.8    18.9  Right   R on L    NaN  Neither  None  Never   \n",
              "4      Male    20.0    20.0  Right  Neither   35.0    Right  Some  Never   \n",
              "..      ...     ...     ...    ...      ...    ...      ...   ...    ...   \n",
              "232  Female    18.0    18.0  Right   L on R   85.0    Right  Some  Never   \n",
              "233  Female    18.5    18.0  Right   L on R   88.0    Right  Some  Never   \n",
              "234  Female    17.5    16.5  Right   R on L    NaN    Right  Some  Never   \n",
              "235    Male    21.0    21.5  Right   R on L   90.0    Right  Some  Never   \n",
              "236  Female    17.6    17.3  Right   R on L   85.0    Right  Freq  Never   \n",
              "\n",
              "     Height       M.I     Age  \n",
              "0     173.0    Metric  18.250  \n",
              "1     177.8  Imperial  17.583  \n",
              "2       NaN       NaN  16.917  \n",
              "3     160.0    Metric  20.333  \n",
              "4     165.0    Metric  23.667  \n",
              "..      ...       ...     ...  \n",
              "232   165.1  Imperial  17.667  \n",
              "233   160.0    Metric  16.917  \n",
              "234   170.0    Metric  18.583  \n",
              "235   183.0    Metric  17.167  \n",
              "236   168.5    Metric  17.750  \n",
              "\n",
              "[237 rows x 12 columns]"
            ]
          },
          "execution_count": 28,
          "metadata": {},
          "output_type": "execute_result"
        }
      ],
      "source": [
        "survey"
      ]
    },
    {
      "cell_type": "code",
      "execution_count": null,
      "metadata": {
        "id": "4CvdnsfLh7KP"
      },
      "outputs": [],
      "source": [
        "ext=survey[['Exer','Smoke']]"
      ]
    },
    {
      "cell_type": "code",
      "execution_count": null,
      "metadata": {
        "id": "J6wBlcDNh7KQ",
        "outputId": "e9ca66b2-d3ae-42ef-e36f-cbe497ececcc"
      },
      "outputs": [
        {
          "data": {
            "text/html": [
              "<div>\n",
              "<style scoped>\n",
              "    .dataframe tbody tr th:only-of-type {\n",
              "        vertical-align: middle;\n",
              "    }\n",
              "\n",
              "    .dataframe tbody tr th {\n",
              "        vertical-align: top;\n",
              "    }\n",
              "\n",
              "    .dataframe thead th {\n",
              "        text-align: right;\n",
              "    }\n",
              "</style>\n",
              "<table border=\"1\" class=\"dataframe\">\n",
              "  <thead>\n",
              "    <tr style=\"text-align: right;\">\n",
              "      <th></th>\n",
              "      <th>Exer</th>\n",
              "      <th>Smoke</th>\n",
              "    </tr>\n",
              "  </thead>\n",
              "  <tbody>\n",
              "    <tr>\n",
              "      <th>0</th>\n",
              "      <td>Some</td>\n",
              "      <td>Never</td>\n",
              "    </tr>\n",
              "    <tr>\n",
              "      <th>1</th>\n",
              "      <td>None</td>\n",
              "      <td>Regul</td>\n",
              "    </tr>\n",
              "    <tr>\n",
              "      <th>2</th>\n",
              "      <td>None</td>\n",
              "      <td>Occas</td>\n",
              "    </tr>\n",
              "    <tr>\n",
              "      <th>3</th>\n",
              "      <td>None</td>\n",
              "      <td>Never</td>\n",
              "    </tr>\n",
              "    <tr>\n",
              "      <th>4</th>\n",
              "      <td>Some</td>\n",
              "      <td>Never</td>\n",
              "    </tr>\n",
              "    <tr>\n",
              "      <th>...</th>\n",
              "      <td>...</td>\n",
              "      <td>...</td>\n",
              "    </tr>\n",
              "    <tr>\n",
              "      <th>232</th>\n",
              "      <td>Some</td>\n",
              "      <td>Never</td>\n",
              "    </tr>\n",
              "    <tr>\n",
              "      <th>233</th>\n",
              "      <td>Some</td>\n",
              "      <td>Never</td>\n",
              "    </tr>\n",
              "    <tr>\n",
              "      <th>234</th>\n",
              "      <td>Some</td>\n",
              "      <td>Never</td>\n",
              "    </tr>\n",
              "    <tr>\n",
              "      <th>235</th>\n",
              "      <td>Some</td>\n",
              "      <td>Never</td>\n",
              "    </tr>\n",
              "    <tr>\n",
              "      <th>236</th>\n",
              "      <td>Freq</td>\n",
              "      <td>Never</td>\n",
              "    </tr>\n",
              "  </tbody>\n",
              "</table>\n",
              "<p>237 rows × 2 columns</p>\n",
              "</div>"
            ],
            "text/plain": [
              "     Exer  Smoke\n",
              "0    Some  Never\n",
              "1    None  Regul\n",
              "2    None  Occas\n",
              "3    None  Never\n",
              "4    Some  Never\n",
              "..    ...    ...\n",
              "232  Some  Never\n",
              "233  Some  Never\n",
              "234  Some  Never\n",
              "235  Some  Never\n",
              "236  Freq  Never\n",
              "\n",
              "[237 rows x 2 columns]"
            ]
          },
          "execution_count": 39,
          "metadata": {},
          "output_type": "execute_result"
        }
      ],
      "source": [
        "ext"
      ]
    },
    {
      "cell_type": "code",
      "execution_count": null,
      "metadata": {
        "id": "x-dRiZ-Gh7KQ",
        "outputId": "a08bbee7-a384-4244-f2d3-46499991c7db"
      },
      "outputs": [
        {
          "name": "stderr",
          "output_type": "stream",
          "text": [
            "D:\\STUDIES\\ANACONDA\\lib\\site-packages\\ipykernel_launcher.py:1: SettingWithCopyWarning: \n",
            "A value is trying to be set on a copy of a slice from a DataFrame.\n",
            "Try using .loc[row_indexer,col_indexer] = value instead\n",
            "\n",
            "See the caveats in the documentation: https://pandas.pydata.org/pandas-docs/stable/user_guide/indexing.html#returning-a-view-versus-a-copy\n",
            "  \"\"\"Entry point for launching an IPython kernel.\n"
          ]
        }
      ],
      "source": [
        "ext['Exer']=[0 if (Exer==\"None\") else 1 if (Exer==\"Some\") else 2 for Exer in ext['Exer']]"
      ]
    },
    {
      "cell_type": "code",
      "execution_count": null,
      "metadata": {
        "id": "gI1YpNZgh7KQ",
        "outputId": "d4dbbd48-9ac5-4482-ad8b-d764004881f9"
      },
      "outputs": [
        {
          "data": {
            "text/plain": [
              "0      1\n",
              "1      0\n",
              "2      0\n",
              "3      0\n",
              "4      1\n",
              "      ..\n",
              "232    1\n",
              "233    1\n",
              "234    1\n",
              "235    1\n",
              "236    2\n",
              "Name: Exer, Length: 237, dtype: int64"
            ]
          },
          "execution_count": 41,
          "metadata": {},
          "output_type": "execute_result"
        }
      ],
      "source": [
        "ext['Exer']"
      ]
    },
    {
      "cell_type": "code",
      "execution_count": null,
      "metadata": {
        "id": "ltYRSrokh7KR",
        "outputId": "e97d940e-6dc2-4409-c5c5-bd6ff176356d"
      },
      "outputs": [
        {
          "name": "stderr",
          "output_type": "stream",
          "text": [
            "D:\\STUDIES\\ANACONDA\\lib\\site-packages\\ipykernel_launcher.py:1: SettingWithCopyWarning: \n",
            "A value is trying to be set on a copy of a slice from a DataFrame.\n",
            "Try using .loc[row_indexer,col_indexer] = value instead\n",
            "\n",
            "See the caveats in the documentation: https://pandas.pydata.org/pandas-docs/stable/user_guide/indexing.html#returning-a-view-versus-a-copy\n",
            "  \"\"\"Entry point for launching an IPython kernel.\n"
          ]
        }
      ],
      "source": [
        "ext['Smoke']=[0 if (Smoke==\"Never\") else 1 if (Smoke==\"Occas\") else 2 for Smoke in ext['Smoke']]"
      ]
    },
    {
      "cell_type": "code",
      "execution_count": null,
      "metadata": {
        "id": "IJmcKclDh7KR",
        "outputId": "7c3da7c7-155a-4e5c-dfb7-79cdacd000a4"
      },
      "outputs": [
        {
          "data": {
            "text/html": [
              "<div>\n",
              "<style scoped>\n",
              "    .dataframe tbody tr th:only-of-type {\n",
              "        vertical-align: middle;\n",
              "    }\n",
              "\n",
              "    .dataframe tbody tr th {\n",
              "        vertical-align: top;\n",
              "    }\n",
              "\n",
              "    .dataframe thead th {\n",
              "        text-align: right;\n",
              "    }\n",
              "</style>\n",
              "<table border=\"1\" class=\"dataframe\">\n",
              "  <thead>\n",
              "    <tr style=\"text-align: right;\">\n",
              "      <th></th>\n",
              "      <th>Exer</th>\n",
              "      <th>Smoke</th>\n",
              "    </tr>\n",
              "  </thead>\n",
              "  <tbody>\n",
              "    <tr>\n",
              "      <th>0</th>\n",
              "      <td>1</td>\n",
              "      <td>0</td>\n",
              "    </tr>\n",
              "    <tr>\n",
              "      <th>1</th>\n",
              "      <td>0</td>\n",
              "      <td>2</td>\n",
              "    </tr>\n",
              "    <tr>\n",
              "      <th>2</th>\n",
              "      <td>0</td>\n",
              "      <td>1</td>\n",
              "    </tr>\n",
              "    <tr>\n",
              "      <th>3</th>\n",
              "      <td>0</td>\n",
              "      <td>0</td>\n",
              "    </tr>\n",
              "    <tr>\n",
              "      <th>4</th>\n",
              "      <td>1</td>\n",
              "      <td>0</td>\n",
              "    </tr>\n",
              "    <tr>\n",
              "      <th>...</th>\n",
              "      <td>...</td>\n",
              "      <td>...</td>\n",
              "    </tr>\n",
              "    <tr>\n",
              "      <th>232</th>\n",
              "      <td>1</td>\n",
              "      <td>0</td>\n",
              "    </tr>\n",
              "    <tr>\n",
              "      <th>233</th>\n",
              "      <td>1</td>\n",
              "      <td>0</td>\n",
              "    </tr>\n",
              "    <tr>\n",
              "      <th>234</th>\n",
              "      <td>1</td>\n",
              "      <td>0</td>\n",
              "    </tr>\n",
              "    <tr>\n",
              "      <th>235</th>\n",
              "      <td>1</td>\n",
              "      <td>0</td>\n",
              "    </tr>\n",
              "    <tr>\n",
              "      <th>236</th>\n",
              "      <td>2</td>\n",
              "      <td>0</td>\n",
              "    </tr>\n",
              "  </tbody>\n",
              "</table>\n",
              "<p>237 rows × 2 columns</p>\n",
              "</div>"
            ],
            "text/plain": [
              "     Exer  Smoke\n",
              "0       1      0\n",
              "1       0      2\n",
              "2       0      1\n",
              "3       0      0\n",
              "4       1      0\n",
              "..    ...    ...\n",
              "232     1      0\n",
              "233     1      0\n",
              "234     1      0\n",
              "235     1      0\n",
              "236     2      0\n",
              "\n",
              "[237 rows x 2 columns]"
            ]
          },
          "execution_count": 43,
          "metadata": {},
          "output_type": "execute_result"
        }
      ],
      "source": [
        "ext"
      ]
    },
    {
      "cell_type": "code",
      "execution_count": null,
      "metadata": {
        "id": "6fg7t9XYh7KS"
      },
      "outputs": [],
      "source": [
        "test=ext[['Exer','Smoke']]"
      ]
    },
    {
      "cell_type": "code",
      "execution_count": null,
      "metadata": {
        "id": "JY5zribNh7KS"
      },
      "outputs": [],
      "source": [
        "test=test.head(3)"
      ]
    },
    {
      "cell_type": "code",
      "execution_count": null,
      "metadata": {
        "id": "9Xwvq-gYh7KS",
        "outputId": "19fa62a9-c094-4a35-b71f-9a9456148b28"
      },
      "outputs": [
        {
          "data": {
            "text/html": [
              "<div>\n",
              "<style scoped>\n",
              "    .dataframe tbody tr th:only-of-type {\n",
              "        vertical-align: middle;\n",
              "    }\n",
              "\n",
              "    .dataframe tbody tr th {\n",
              "        vertical-align: top;\n",
              "    }\n",
              "\n",
              "    .dataframe thead th {\n",
              "        text-align: right;\n",
              "    }\n",
              "</style>\n",
              "<table border=\"1\" class=\"dataframe\">\n",
              "  <thead>\n",
              "    <tr style=\"text-align: right;\">\n",
              "      <th></th>\n",
              "      <th>Exer</th>\n",
              "      <th>Smoke</th>\n",
              "    </tr>\n",
              "  </thead>\n",
              "  <tbody>\n",
              "    <tr>\n",
              "      <th>0</th>\n",
              "      <td>1</td>\n",
              "      <td>0</td>\n",
              "    </tr>\n",
              "    <tr>\n",
              "      <th>1</th>\n",
              "      <td>0</td>\n",
              "      <td>2</td>\n",
              "    </tr>\n",
              "    <tr>\n",
              "      <th>2</th>\n",
              "      <td>0</td>\n",
              "      <td>1</td>\n",
              "    </tr>\n",
              "  </tbody>\n",
              "</table>\n",
              "</div>"
            ],
            "text/plain": [
              "   Exer  Smoke\n",
              "0     1      0\n",
              "1     0      2\n",
              "2     0      1"
            ]
          },
          "execution_count": 53,
          "metadata": {},
          "output_type": "execute_result"
        }
      ],
      "source": [
        "test"
      ]
    },
    {
      "cell_type": "code",
      "execution_count": null,
      "metadata": {
        "id": "F-iHElqOh7KT"
      },
      "outputs": [],
      "source": [
        "stat, p, dof, expected = chi2_contingency(test)"
      ]
    },
    {
      "cell_type": "code",
      "execution_count": null,
      "metadata": {
        "id": "DHh3fF6Lh7KT",
        "outputId": "cd18e5f4-e9ef-4487-8187-98f9cda8886a"
      },
      "outputs": [
        {
          "data": {
            "text/plain": [
              "0.1353352832366127"
            ]
          },
          "execution_count": 56,
          "metadata": {},
          "output_type": "execute_result"
        }
      ],
      "source": [
        "p"
      ]
    },
    {
      "cell_type": "code",
      "execution_count": null,
      "metadata": {
        "id": "ueNIwEqWh7KU",
        "outputId": "baafd15e-8e01-467d-ef5f-723c85e47145"
      },
      "outputs": [
        {
          "name": "stdout",
          "output_type": "stream",
          "text": [
            "Independent\n"
          ]
        }
      ],
      "source": [
        "alpha = 0.05\n",
        "if p <= alpha:\n",
        "    print('Dependent')\n",
        "else:\n",
        "    print('Independent')"
      ]
    },
    {
      "cell_type": "code",
      "execution_count": null,
      "metadata": {
        "id": "NTn3pZv1h7KU",
        "outputId": "6bb50037-16b6-43f2-e827-39ceb4b64a7b"
      },
      "outputs": [
        {
          "data": {
            "text/html": [
              "<div>\n",
              "<style scoped>\n",
              "    .dataframe tbody tr th:only-of-type {\n",
              "        vertical-align: middle;\n",
              "    }\n",
              "\n",
              "    .dataframe tbody tr th {\n",
              "        vertical-align: top;\n",
              "    }\n",
              "\n",
              "    .dataframe thead th {\n",
              "        text-align: right;\n",
              "    }\n",
              "</style>\n",
              "<table border=\"1\" class=\"dataframe\">\n",
              "  <thead>\n",
              "    <tr style=\"text-align: right;\">\n",
              "      <th></th>\n",
              "      <th>Exer</th>\n",
              "      <th>Smoke</th>\n",
              "    </tr>\n",
              "  </thead>\n",
              "  <tbody>\n",
              "    <tr>\n",
              "      <th>0</th>\n",
              "      <td>1</td>\n",
              "      <td>0</td>\n",
              "    </tr>\n",
              "    <tr>\n",
              "      <th>1</th>\n",
              "      <td>0</td>\n",
              "      <td>2</td>\n",
              "    </tr>\n",
              "    <tr>\n",
              "      <th>2</th>\n",
              "      <td>0</td>\n",
              "      <td>1</td>\n",
              "    </tr>\n",
              "  </tbody>\n",
              "</table>\n",
              "</div>"
            ],
            "text/plain": [
              "   Exer  Smoke\n",
              "0     1      0\n",
              "1     0      2\n",
              "2     0      1"
            ]
          },
          "execution_count": 58,
          "metadata": {},
          "output_type": "execute_result"
        }
      ],
      "source": [
        "test"
      ]
    },
    {
      "cell_type": "code",
      "execution_count": null,
      "metadata": {
        "id": "NQjv_dKvh7KV"
      },
      "outputs": [],
      "source": [
        "colTotal=[sum(test['Exer']),sum(test['Smoke'])]"
      ]
    },
    {
      "cell_type": "code",
      "execution_count": null,
      "metadata": {
        "id": "gEury1P9h7KV",
        "outputId": "9a9e1c68-b456-4d1e-d86f-b917fecea7c9"
      },
      "outputs": [
        {
          "data": {
            "text/plain": [
              "[1, 3]"
            ]
          },
          "execution_count": 62,
          "metadata": {},
          "output_type": "execute_result"
        }
      ],
      "source": [
        "colTotal"
      ]
    },
    {
      "cell_type": "code",
      "execution_count": null,
      "metadata": {
        "id": "3SAkt6HIh7KV"
      },
      "outputs": [],
      "source": [
        "rowTotal=[sum(test.iloc[0]),sum(test.iloc[1]),sum(test.iloc[2])]"
      ]
    },
    {
      "cell_type": "code",
      "execution_count": null,
      "metadata": {
        "id": "p01sHN69h7KV",
        "outputId": "9771df7b-2752-4cd5-8f5e-33bc91b24fdb"
      },
      "outputs": [
        {
          "data": {
            "text/plain": [
              "[1, 2, 1]"
            ]
          },
          "execution_count": 76,
          "metadata": {},
          "output_type": "execute_result"
        }
      ],
      "source": [
        "rowTotal"
      ]
    },
    {
      "cell_type": "code",
      "execution_count": null,
      "metadata": {
        "id": "YXFftRZih7KV",
        "outputId": "74a7792a-85ab-413d-cfc4-f8b660ddef6b"
      },
      "outputs": [
        {
          "data": {
            "text/plain": [
              "0.5"
            ]
          },
          "execution_count": 77,
          "metadata": {},
          "output_type": "execute_result"
        }
      ],
      "source": [
        "(rowTotal[1]*colTotal[0])/sum(rowTotal)"
      ]
    },
    {
      "cell_type": "code",
      "execution_count": null,
      "metadata": {
        "id": "ogLEKtggh7KW"
      },
      "outputs": [],
      "source": [
        "Expected=[(rowTotal[0]*colTotal[0])/sum(rowTotal),(rowTotal[1]*colTotal[0])/sum(rowTotal),(rowTotal[2]*colTotal[0])/sum(rowTotal),(rowTotal[0]*colTotal[1])/sum(rowTotal),(rowTotal[1]*colTotal[1])/sum(rowTotal),(rowTotal[2]*colTotal[1])/sum(rowTotal)]"
      ]
    },
    {
      "cell_type": "code",
      "execution_count": null,
      "metadata": {
        "id": "o8PugC8Nh7KW",
        "outputId": "9a9e70ab-047a-4d2b-c261-910aabf03251"
      },
      "outputs": [
        {
          "data": {
            "text/plain": [
              "[0.25, 0.5, 0.25, 0.75, 1.5, 0.75]"
            ]
          },
          "execution_count": 93,
          "metadata": {},
          "output_type": "execute_result"
        }
      ],
      "source": [
        "Expected"
      ]
    },
    {
      "cell_type": "code",
      "execution_count": null,
      "metadata": {
        "id": "O1_6ZihUh7KW",
        "outputId": "7abd60f1-afd8-4c70-a208-64a36354e465"
      },
      "outputs": [
        {
          "data": {
            "text/plain": [
              "1"
            ]
          },
          "execution_count": 94,
          "metadata": {},
          "output_type": "execute_result"
        }
      ],
      "source": [
        "test.iloc[0]['Exer']"
      ]
    },
    {
      "cell_type": "code",
      "execution_count": null,
      "metadata": {
        "id": "Z6a6cnArh7KW",
        "outputId": "6f33e7de-9b78-4ff8-9da6-33477c3ea662"
      },
      "outputs": [
        {
          "data": {
            "text/plain": [
              "2.25"
            ]
          },
          "execution_count": 95,
          "metadata": {},
          "output_type": "execute_result"
        }
      ],
      "source": [
        "(test.iloc[0]['Exer']-Expected[0])**2/Expected[0]"
      ]
    },
    {
      "cell_type": "code",
      "execution_count": null,
      "metadata": {
        "id": "k4BpaXYIh7KW",
        "outputId": "0d2dbb0b-f2bd-4b4f-c79d-62bdb68ef44a"
      },
      "outputs": [
        {
          "data": {
            "text/plain": [
              "4.0"
            ]
          },
          "execution_count": 96,
          "metadata": {},
          "output_type": "execute_result"
        }
      ],
      "source": [
        "stat"
      ]
    },
    {
      "cell_type": "code",
      "execution_count": null,
      "metadata": {
        "id": "19zCLXDTh7KW",
        "outputId": "2e491d9c-0223-452b-acfd-145ce382e2d3"
      },
      "outputs": [
        {
          "data": {
            "text/plain": [
              "array([[0.25, 0.75],\n",
              "       [0.5 , 1.5 ],\n",
              "       [0.25, 0.75]])"
            ]
          },
          "execution_count": 97,
          "metadata": {},
          "output_type": "execute_result"
        }
      ],
      "source": [
        "expected"
      ]
    },
    {
      "cell_type": "code",
      "execution_count": null,
      "metadata": {
        "id": "2dl5sBHEh7KX"
      },
      "outputs": [],
      "source": [
        "x=[((test.iloc[0]['Exer']-Expected[0])**2/Expected[0]),((test.iloc[1]['Exer']-Expected[1])**2/Expected[1]),((test.iloc[2]['Exer']-Expected[2])**2/Expected[2]),((test.iloc[0]['Smoke']-Expected[3])**2/Expected[3]),((test.iloc[1]['Smoke']-Expected[4])**2/Expected[4]),((test.iloc[2]['Smoke']-Expected[5])**2/Expected[5])]"
      ]
    },
    {
      "cell_type": "code",
      "execution_count": null,
      "metadata": {
        "id": "zanCtWvfh7KX",
        "outputId": "3eecc94e-33a9-4cce-8ee8-10617d9f9e94"
      },
      "outputs": [
        {
          "data": {
            "text/plain": [
              "[2.25, 0.5, 0.25, 0.75, 0.16666666666666666, 0.08333333333333333]"
            ]
          },
          "execution_count": 99,
          "metadata": {},
          "output_type": "execute_result"
        }
      ],
      "source": [
        "x"
      ]
    },
    {
      "cell_type": "code",
      "execution_count": null,
      "metadata": {
        "id": "RyJ6t7Mlh7KX",
        "outputId": "fe56791e-4c79-43c8-9285-1f65f573968d"
      },
      "outputs": [
        {
          "data": {
            "text/plain": [
              "4.0"
            ]
          },
          "execution_count": 100,
          "metadata": {},
          "output_type": "execute_result"
        }
      ],
      "source": [
        "sum(x)"
      ]
    },
    {
      "cell_type": "code",
      "execution_count": null,
      "metadata": {
        "id": "Zl1VcDBZh7KX"
      },
      "outputs": [],
      "source": [
        ""
      ]
    }
  ],
  "metadata": {
    "kernelspec": {
      "display_name": "Python 3",
      "language": "python",
      "name": "python3"
    },
    "language_info": {
      "codemirror_mode": {
        "name": "ipython",
        "version": 3
      },
      "file_extension": ".py",
      "mimetype": "text/x-python",
      "name": "python",
      "nbconvert_exporter": "python",
      "pygments_lexer": "ipython3",
      "version": "3.7.6"
    },
    "colab": {
      "name": "ChiSquare.ipynb",
      "provenance": [],
      "include_colab_link": true
    }
  },
  "nbformat": 4,
  "nbformat_minor": 0
}